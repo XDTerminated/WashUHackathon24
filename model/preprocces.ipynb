{
 "cells": [
  {
   "cell_type": "code",
   "execution_count": 2,
   "metadata": {},
   "outputs": [],
   "source": [
    "# Dependencies\n",
    "\n",
    "import pandas as pd\n",
    "\n",
    "# Load the data\n",
    "df = pd.read_csv(\"../data/raw/triage.csv\")\n"
   ]
  },
  {
   "cell_type": "code",
   "execution_count": null,
   "metadata": {},
   "outputs": [],
   "source": [
    "df_cleaned = df.fillna(0)"
   ]
  },
  {
   "cell_type": "code",
   "execution_count": null,
   "metadata": {},
   "outputs": [],
   "source": [
    "print(df_cleaned[\"n_edvisits\"].head())\n",
    "print(df_cleaned[\"n_admissions\"].head())"
   ]
  },
  {
   "cell_type": "code",
   "execution_count": null,
   "metadata": {},
   "outputs": [],
   "source": [
    "df_cleaned.drop(\n",
    "    [\n",
    "        \"dep_name\", \n",
    "        \"ethnicity\",\n",
    "        \"race\",\n",
    "        \"lang\",\n",
    "        \"religion\",\n",
    "        \"maritalstatus\",\n",
    "        \"employstatus\",\n",
    "        \"insurance_status\",\n",
    "        \"disposition\",\n",
    "        \"arrivalmode\",\n",
    "        \"arrivalmonth\",\n",
    "        \"arrivalday\",\n",
    "        \"arrivalhour_bin\",\n",
    "        \"previousdispo\",\n",
    "        \"n_edvisits\",\n",
    "        \"n_admissions\",\n",
    "    ], axis=1, inplace=True\n",
    ")"
   ]
  },
  {
   "cell_type": "code",
   "execution_count": null,
   "metadata": {},
   "outputs": [],
   "source": [
    "df_cleaned.to_csv(\"../data/processed/triage_cleaned.csv\", index=False)"
   ]
  }
 ],
 "metadata": {
  "kernelspec": {
   "display_name": ".venv",
   "language": "python",
   "name": "python3"
  },
  "language_info": {
   "codemirror_mode": {
    "name": "ipython",
    "version": 3
   },
   "file_extension": ".py",
   "mimetype": "text/x-python",
   "name": "python",
   "nbconvert_exporter": "python",
   "pygments_lexer": "ipython3",
   "version": "3.11.2"
  }
 },
 "nbformat": 4,
 "nbformat_minor": 2
}
